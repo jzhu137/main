{
  "nbformat": 4,
  "nbformat_minor": 0,
  "metadata": {
    "colab": {
      "provenance": [],
      "authorship_tag": "ABX9TyNcXLExVnx0KI8xvkWpQqY7",
      "include_colab_link": true
    },
    "kernelspec": {
      "name": "python3",
      "display_name": "Python 3"
    },
    "language_info": {
      "name": "python"
    }
  },
  "cells": [
    {
      "cell_type": "markdown",
      "metadata": {
        "id": "view-in-github",
        "colab_type": "text"
      },
      "source": [
        "<a href=\"https://colab.research.google.com/github/jzhu137/main/blob/main/In_Class_Assignment.ipynb\" target=\"_parent\"><img src=\"https://colab.research.google.com/assets/colab-badge.svg\" alt=\"Open In Colab\"/></a>"
      ]
    },
    {
      "cell_type": "code",
      "execution_count": 6,
      "metadata": {
        "colab": {
          "base_uri": "https://localhost:8080/"
        },
        "id": "tvJMF5XepCoD",
        "outputId": "fe51091e-0975-4006-c4b7-0113291e2b95"
      },
      "outputs": [
        {
          "output_type": "stream",
          "name": "stdout",
          "text": [
            "Enter the radius:5\n",
            "Enter the height: 6\n",
            "Surface Area: 345.4 sq.ft\n"
          ]
        }
      ],
      "source": [
        "R = float(input(\"Enter the radius:\"))\n",
        "H = float(input(\"Enter the height: \"))\n",
        "SA = 2*3.14*R**2 + 2*3.14*R*H\n",
        "print(f'Surface Area: {SA} sq.ft')"
      ]
    },
    {
      "cell_type": "code",
      "source": [],
      "metadata": {
        "id": "tMN3WxbrpYg1"
      },
      "execution_count": null,
      "outputs": []
    }
  ]
}